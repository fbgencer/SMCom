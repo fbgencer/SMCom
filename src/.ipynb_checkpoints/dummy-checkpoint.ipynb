{
 "cells": [
  {
   "cell_type": "code",
   "execution_count": null,
   "id": "differential-festival",
   "metadata": {},
   "outputs": [],
   "source": [
    "from wired import *\n",
    "\n",
    "dev = Wired(1024,1024,13)\n",
    "\n",
    "dev.write(0xFF,10,[],0)\n",
    "\n",
    "dev.listener()\n",
    "\n",
    "data = dev.q.get()"
   ]
  },
  {
   "cell_type": "code",
   "execution_count": null,
   "id": "first-bronze",
   "metadata": {},
   "outputs": [],
   "source": []
  },
  {
   "cell_type": "code",
   "execution_count": null,
   "id": "built-strike",
   "metadata": {},
   "outputs": [],
   "source": []
  }
 ],
 "metadata": {
  "kernelspec": {
   "display_name": "Python 3",
   "language": "python",
   "name": "python3"
  },
  "language_info": {
   "codemirror_mode": {
    "name": "ipython",
    "version": 3
   },
   "file_extension": ".py",
   "mimetype": "text/x-python",
   "name": "python",
   "nbconvert_exporter": "python",
   "pygments_lexer": "ipython3",
   "version": "3.8.10"
  }
 },
 "nbformat": 4,
 "nbformat_minor": 5
}
